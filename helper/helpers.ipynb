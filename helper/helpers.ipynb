{
 "cells": [
  {
   "cell_type": "code",
   "execution_count": 4,
   "metadata": {},
   "outputs": [],
   "source": [
    "#convert python txt <p1> <p2> file to json file format\n",
    "import json\n",
    "f = open(\"mapping_db_wk_clean.txt\",'r',encoding='utf-8').read()\n",
    "json_dict = {\"values\" : []}\n",
    "for line in f.split(\"\\n\"):\n",
    "    values = line.split(\" \")\n",
    "    if len(values) == 2 : db,wk = values\n",
    "    json_dict[\"values\"].append({\"db\" : db, \"wk\": wk})\n",
    "with open(\"mapping_db_wk.json\", \"w\") as outfile:\n",
    "    json.dump(json_dict, outfile)"
   ]
  },
  {
   "cell_type": "code",
   "execution_count": 1,
   "metadata": {},
   "outputs": [],
   "source": [
    "import json\n",
    "#compare sameAs prop with clean db prop\n",
    "with open('mapping_db_wk.json', 'r') as openfile:\n",
    "    mapping_dict = json.load(openfile)\n",
    "\n",
    "#load mapping into a dict to get constant acces time\n",
    "db_sameAs_dict = {}\n",
    "for i in mapping_dict[\"values\"]:\n",
    "    db_sameAs_dict[i[\"db\"]] = i[\"wk\"]\n",
    "\n",
    "with open(\"../data/property_support.json\") as json_file:\n",
    "        property_dictionnary = json.load(json_file)\n",
    "            \n"
   ]
  },
  {
   "cell_type": "code",
   "execution_count": 3,
   "metadata": {},
   "outputs": [],
   "source": [
    "#filter prop count dictionary with sameAs dictionary\n",
    "filtered_prop = {}\n",
    "for i in db_sameAs_dict.keys():\n",
    "    val = property_dictionnary.get(i)\n",
    "    if val: filtered_prop[i] = val\n",
    "\n",
    "#sort the dict\n",
    "prop = dict(sorted(filtered_prop.items(), key=lambda item: item[1], reverse=True))\n",
    "#keep only prop with support > 1000\n",
    "prop = dict(filter(lambda x,: True if x[1] > 1000 else False, prop.items()))\n",
    "\n"
   ]
  },
  {
   "cell_type": "code",
   "execution_count": 7,
   "metadata": {},
   "outputs": [
    {
     "data": {
      "text/plain": [
       "'<http://www.wikidata.org/prop/P570>'"
      ]
     },
     "execution_count": 7,
     "metadata": {},
     "output_type": "execute_result"
    }
   ],
   "source": [
    "db_sameAs_dict['<http://dbpedia.org/ontology/deathDate>']"
   ]
  },
  {
   "cell_type": "code",
   "execution_count": 13,
   "metadata": {},
   "outputs": [
    {
     "name": "stdout",
     "output_type": "stream",
     "text": [
      "<http://www.wikidata.org/prop/P11143> sameAs <http://dbpedia.org/ontology/wikiPageID> : 1406259\n",
      "<http://www.wikidata.org/prop/P2451> sameAs <http://dbpedia.org/ontology/birthDate> : 471625\n",
      "<http://www.wikidata.org/prop/P570> sameAs <http://dbpedia.org/ontology/deathDate> : 170365\n",
      "<http://www.wikidata.org/prop/P2907> sameAs <http://dbpedia.org/ontology/utcOffset> : 163232\n",
      "<http://www.wikidata.org/prop/P6499> sameAs <http://dbpedia.org/ontology/populationTotal> : 154981\n",
      "<http://www.wikidata.org/prop/P8497> sameAs <http://dbpedia.org/ontology/Person/height> : 111006\n",
      "<http://www.wikidata.org/prop/P8483> sameAs <http://dbpedia.org/ontology/postalCode> : 106248\n",
      "<http://www.wikidata.org/prop/P5286> sameAs <http://dbpedia.org/ontology/runtime> : 97818\n",
      "<http://www.wikidata.org/prop/P1477> sameAs <http://dbpedia.org/ontology/originalName> : 70857\n",
      "<http://www.wikidata.org/prop/P10708> sameAs <http://dbpedia.org/ontology/areaCode> : 66970\n",
      "<http://www.wikidata.org/prop/P10673> sameAs <http://dbpedia.org/ontology/releaseDate> : 61238\n",
      "<http://www.wikidata.org/prop/P112> sameAs <http://dbpedia.org/ontology/foundingYear> : 50531\n",
      "<http://www.wikidata.org/prop/P11054> sameAs <http://dbpedia.org/ontology/number> : 43027\n",
      "<http://www.wikidata.org/prop/P10268> sameAs <http://dbpedia.org/ontology/imdbId> : 35122\n",
      "<http://www.wikidata.org/prop/P6833> sameAs <http://dbpedia.org/ontology/title> : 34916\n",
      "<http://www.wikidata.org/prop/P2918> sameAs <http://dbpedia.org/ontology/address> : 34716\n",
      "<http://www.wikidata.org/prop/P5974> sameAs <http://dbpedia.org/ontology/synonym> : 23916\n",
      "<http://www.wikidata.org/prop/P6000> sameAs <http://dbpedia.org/ontology/areaWater> : 23761\n",
      "<http://www.wikidata.org/prop/P1546> sameAs <http://dbpedia.org/ontology/motto> : 20162\n",
      "<http://www.wikidata.org/prop/P1113> sameAs <http://dbpedia.org/ontology/numberOfEpisodes> : 20030\n",
      "<http://www.wikidata.org/prop/P10673> sameAs <http://dbpedia.org/ontology/openingDate> : 19088\n",
      "<http://www.wikidata.org/prop/P112> sameAs <http://dbpedia.org/ontology/foundingDate> : 18463\n",
      "<http://www.wikidata.org/prop/P3423> sameAs <http://dbpedia.org/ontology/inseeCode> : 17796\n",
      "<http://www.wikidata.org/prop/P1104> sameAs <http://dbpedia.org/ontology/numberOfPages> : 14315\n",
      "<http://www.wikidata.org/prop/P7708> sameAs <http://dbpedia.org/ontology/isbn> : 13610\n",
      "<http://www.wikidata.org/prop/P2437> sameAs <http://dbpedia.org/ontology/numberOfSeasons> : 12890\n",
      "<http://www.wikidata.org/prop/P2769> sameAs <http://dbpedia.org/ontology/budget> : 12160\n",
      "<http://www.wikidata.org/prop/P6364> sameAs <http://dbpedia.org/ontology/officialSchoolColour> : 12074\n",
      "<http://www.wikidata.org/prop/P3415> sameAs <http://dbpedia.org/ontology/startDate> : 11738\n",
      "<http://www.wikidata.org/prop/P4970> sameAs <http://dbpedia.org/ontology/alternativeName> : 11150\n",
      "<http://www.wikidata.org/prop/P945> sameAs <http://dbpedia.org/ontology/allegiance> : 11028\n",
      "<http://www.wikidata.org/prop/P1671> sameAs <http://dbpedia.org/ontology/routeNumber> : 10895\n",
      "<http://www.wikidata.org/prop/P6510> sameAs <http://dbpedia.org/ontology/topSpeed> : 10703\n",
      "<http://www.wikidata.org/prop/P1836> sameAs <http://dbpedia.org/ontology/draftPick> : 10397\n",
      "<http://www.wikidata.org/prop/P8093> sameAs <http://dbpedia.org/ontology/oclc> : 10183\n",
      "<http://www.wikidata.org/prop/P735> sameAs <http://dbpedia.org/ontology/formerName> : 9883\n",
      "<http://www.wikidata.org/prop/P6639> sameAs <http://dbpedia.org/ontology/capacity> : 9236\n",
      "<http://www.wikidata.org/prop/P3460> sameAs <http://dbpedia.org/ontology/militaryCommand> : 8992\n",
      "<http://www.wikidata.org/prop/P8703> sameAs <http://dbpedia.org/ontology/abbreviation> : 8383\n",
      "<http://www.wikidata.org/prop/P5606> sameAs <http://dbpedia.org/ontology/broadcastStationClass> : 8280\n",
      "<http://www.wikidata.org/prop/P2545> sameAs <http://dbpedia.org/ontology/bowlingSide> : 7437\n",
      "<http://www.wikidata.org/prop/P2144> sameAs <http://dbpedia.org/ontology/frequency> : 7389\n",
      "<http://www.wikidata.org/prop/P10786> sameAs <http://dbpedia.org/ontology/formationDate> : 7230\n",
      "<http://www.wikidata.org/prop/P822> sameAs <http://dbpedia.org/ontology/mascot> : 6944\n",
      "<http://www.wikidata.org/prop/P4803> sameAs <http://dbpedia.org/ontology/agencyStationCode> : 6929\n",
      "<http://www.wikidata.org/prop/P11113> sameAs <http://dbpedia.org/ontology/facilityId> : 6900\n",
      "<http://www.wikidata.org/prop/P10215> sameAs <http://dbpedia.org/ontology/numberBuilt> : 6551\n",
      "<http://www.wikidata.org/prop/P5209> sameAs <http://dbpedia.org/ontology/isoCodeRegion> : 6411\n",
      "<http://www.wikidata.org/prop/P5677> sameAs <http://dbpedia.org/ontology/strength> : 6315\n",
      "<http://www.wikidata.org/prop/P3661> sameAs <http://dbpedia.org/ontology/managerTitle> : 5745\n",
      "<http://www.wikidata.org/prop/P7363> sameAs <http://dbpedia.org/ontology/issn> : 5642\n",
      "<http://www.wikidata.org/prop/P2262> sameAs <http://dbpedia.org/ontology/draft> : 5299\n",
      "<http://www.wikidata.org/prop/P5800> sameAs <http://dbpedia.org/ontology/role> : 5285\n",
      "<http://www.wikidata.org/prop/P3586> sameAs <http://dbpedia.org/ontology/iupacName> : 5268\n",
      "<http://www.wikidata.org/prop/P9860> sameAs <http://dbpedia.org/ontology/icaoLocationIdentifier> : 5127\n",
      "<http://www.wikidata.org/prop/P8887> sameAs <http://dbpedia.org/ontology/percentageOfAreaWater> : 5010\n",
      "<http://www.wikidata.org/prop/P7779> sameAs <http://dbpedia.org/ontology/militaryUnitSize> : 4670\n",
      "<http://www.wikidata.org/prop/P2660> sameAs <http://dbpedia.org/ontology/prominence> : 4539\n",
      "<http://www.wikidata.org/prop/P3337> sameAs <http://dbpedia.org/ontology/time> : 4354\n",
      "<http://www.wikidata.org/prop/P3931> sameAs <http://dbpedia.org/ontology/licensee> : 4156\n",
      "<http://www.wikidata.org/prop/P6852> sameAs <http://dbpedia.org/ontology/casNumber> : 3924\n",
      "<http://www.wikidata.org/prop/P8502> sameAs <http://dbpedia.org/ontology/floorCount> : 3912\n",
      "<http://www.wikidata.org/prop/P1923> sameAs <http://dbpedia.org/ontology/teamName> : 3635\n",
      "<http://www.wikidata.org/prop/P576> sameAs <http://dbpedia.org/ontology/dissolutionYear> : 3600\n",
      "<http://www.wikidata.org/prop/P627> sameAs <http://dbpedia.org/ontology/iucnCategory> : 3562\n",
      "<http://www.wikidata.org/prop/P8136> sameAs <http://dbpedia.org/ontology/lcc> : 3545\n",
      "<http://www.wikidata.org/prop/P6271> sameAs <http://dbpedia.org/ontology/demonym> : 3542\n",
      "<http://www.wikidata.org/prop/P3640> sameAs <http://dbpedia.org/ontology/fdaUniiCode> : 3521\n",
      "<http://www.wikidata.org/prop/P662> sameAs <http://dbpedia.org/ontology/pubchem> : 3484\n",
      "<http://www.wikidata.org/prop/P2197> sameAs <http://dbpedia.org/ontology/productionEndYear> : 3465\n",
      "<http://www.wikidata.org/prop/P2130> sameAs <http://dbpedia.org/ontology/cost> : 3316\n",
      "<http://www.wikidata.org/prop/P4584> sameAs <http://dbpedia.org/ontology/firstAppearance> : 3307\n",
      "<http://www.wikidata.org/prop/P10038> sameAs <http://dbpedia.org/ontology/identificationSymbol> : 3187\n",
      "<http://www.wikidata.org/prop/P7457> sameAs <http://dbpedia.org/ontology/signature> : 3130\n",
      "<http://www.wikidata.org/prop/P2121> sameAs <http://dbpedia.org/ontology/careerPrizeMoney> : 3130\n",
      "<http://www.wikidata.org/prop/P9255> sameAs <http://dbpedia.org/ontology/iso6393Code> : 3082\n",
      "<http://www.wikidata.org/prop/P8361> sameAs <http://dbpedia.org/ontology/dcc> : 2857\n",
      "<http://www.wikidata.org/prop/P7253> sameAs <http://dbpedia.org/ontology/colourName> : 2783\n",
      "<http://www.wikidata.org/prop/P10786> sameAs <http://dbpedia.org/ontology/acquirementDate> : 2747\n",
      "<http://www.wikidata.org/prop/P2295> sameAs <http://dbpedia.org/ontology/netIncome> : 2642\n",
      "<http://www.wikidata.org/prop/P2669> sameAs <http://dbpedia.org/ontology/dissolutionDate> : 2539\n",
      "<http://www.wikidata.org/prop/P3236> sameAs <http://dbpedia.org/ontology/publicationDate> : 2494\n",
      "<http://www.wikidata.org/prop/P7807> sameAs <http://dbpedia.org/ontology/icd10> : 2455\n",
      "<http://www.wikidata.org/prop/P6340> sameAs <http://dbpedia.org/ontology/ecNumber> : 2434\n",
      "<http://www.wikidata.org/prop/P4508> sameAs <http://dbpedia.org/ontology/bicycleInformation> : 2370\n",
      "<http://www.wikidata.org/prop/P11108> sameAs <http://dbpedia.org/ontology/participant> : 2368\n",
      "<http://www.wikidata.org/prop/P2049> sameAs <http://dbpedia.org/ontology/MeanOfTransportation/width> : 2357\n",
      "<http://www.wikidata.org/prop/P2227> sameAs <http://dbpedia.org/ontology/membership> : 2292\n",
      "<http://www.wikidata.org/prop/P9888> sameAs <http://dbpedia.org/ontology/conservationStatus> : 2246\n",
      "<http://www.wikidata.org/prop/P592> sameAs <http://dbpedia.org/ontology/chEMBL> : 2098\n",
      "<http://www.wikidata.org/prop/P2575> sameAs <http://dbpedia.org/ontology/numberOfVolumes> : 1994\n",
      "<http://www.wikidata.org/prop/P8811> sameAs <http://dbpedia.org/ontology/lccn> : 1968\n",
      "<http://www.wikidata.org/prop/P2146> sameAs <http://dbpedia.org/ontology/orbitalPeriod> : 1948\n",
      "<http://www.wikidata.org/prop/P1692> sameAs <http://dbpedia.org/ontology/icd9> : 1942\n",
      "<http://www.wikidata.org/prop/P575> sameAs <http://dbpedia.org/ontology/discovered> : 1934\n",
      "<http://www.wikidata.org/prop/P8627> sameAs <http://dbpedia.org/ontology/closingDate> : 1878\n",
      "<http://www.wikidata.org/prop/P4118> sameAs <http://dbpedia.org/ontology/faaLocationIdentifier> : 1814\n",
      "<http://www.wikidata.org/prop/P1449> sameAs <http://dbpedia.org/ontology/pseudonym> : 1795\n",
      "<http://www.wikidata.org/prop/P1884> sameAs <http://dbpedia.org/ontology/hairColor> : 1672\n",
      "<http://www.wikidata.org/prop/P6259> sameAs <http://dbpedia.org/ontology/epoch> : 1671\n",
      "<http://www.wikidata.org/prop/P1340> sameAs <http://dbpedia.org/ontology/eyeColor> : 1626\n",
      "<http://www.wikidata.org/prop/P9340> sameAs <http://dbpedia.org/ontology/meshId> : 1499\n",
      "<http://www.wikidata.org/prop/P699> sameAs <http://dbpedia.org/ontology/diseasesDB> : 1451\n",
      "<http://www.wikidata.org/prop/P10135> sameAs <http://dbpedia.org/ontology/recordDate> : 1444\n",
      "<http://www.wikidata.org/prop/P10246> sameAs <http://dbpedia.org/ontology/medlinePlus> : 1375\n",
      "<http://www.wikidata.org/prop/P610> sameAs <http://dbpedia.org/ontology/firstAscentYear> : 1368\n",
      "<http://www.wikidata.org/prop/P7124> sameAs <http://dbpedia.org/ontology/firstPublicationDate> : 1365\n",
      "<http://www.wikidata.org/prop/P5348> sameAs <http://dbpedia.org/ontology/diameter> : 1323\n",
      "<http://www.wikidata.org/prop/P10631> sameAs <http://dbpedia.org/ontology/municipalityCode> : 1307\n",
      "<http://www.wikidata.org/prop/P8811> sameAs <http://dbpedia.org/ontology/coden> : 1294\n",
      "<http://www.wikidata.org/prop/P247> sameAs <http://dbpedia.org/ontology/cosparId> : 1292\n",
      "<http://www.wikidata.org/prop/P715> sameAs <http://dbpedia.org/ontology/drugbank> : 1286\n",
      "<http://www.wikidata.org/prop/P2388> sameAs <http://dbpedia.org/ontology/office> : 1219\n",
      "<http://www.wikidata.org/prop/P10788> sameAs <http://dbpedia.org/ontology/serviceNumber> : 1212\n",
      "<http://www.wikidata.org/prop/P3301> sameAs <http://dbpedia.org/ontology/broadcastTranslator> : 1197\n",
      "<http://www.wikidata.org/prop/P5978> sameAs <http://dbpedia.org/ontology/classification> : 1165\n",
      "<http://www.wikidata.org/prop/P2234> sameAs <http://dbpedia.org/ontology/volume> : 1123\n",
      "<http://www.wikidata.org/prop/P9374> sameAs <http://dbpedia.org/ontology/omim> : 1102\n",
      "<http://www.wikidata.org/prop/P6224> sameAs <http://dbpedia.org/ontology/description> : 1083\n",
      "<http://www.wikidata.org/prop/P673> sameAs <http://dbpedia.org/ontology/eMedicineSubject> : 1071\n",
      "<http://www.wikidata.org/prop/P673> sameAs <http://dbpedia.org/ontology/eMedicineTopic> : 1069\n",
      "<http://www.wikidata.org/prop/P6801> sameAs <http://dbpedia.org/ontology/bedCount> : 1044\n",
      "<http://www.wikidata.org/prop/P8058> sameAs <http://dbpedia.org/ontology/symbol> : 1043\n",
      "<http://www.wikidata.org/prop/P683> sameAs <http://dbpedia.org/ontology/chEBI> : 1012\n"
     ]
    }
   ],
   "source": [
    "for i in prop.keys():\n",
    "        print(f\"{db_sameAs_dict[i]} sameAs {i} : {prop[i]}\")\n"
   ]
  },
  {
   "attachments": {},
   "cell_type": "markdown",
   "metadata": {},
   "source": [
    "### Test values "
   ]
  },
  {
   "cell_type": "code",
   "execution_count": 43,
   "metadata": {},
   "outputs": [],
   "source": [
    "#import \n",
    "import time\n",
    "from SPARQLWrapper import SPARQLWrapper, JSON\n",
    "import re"
   ]
  },
  {
   "cell_type": "code",
   "execution_count": 44,
   "metadata": {},
   "outputs": [],
   "source": [
    "#const\n",
    "DBPEDIA = \"http://dbpedia.org/sparql\"\n",
    "WIKIDATA = \"https://query.wikidata.org/sparql\""
   ]
  },
  {
   "cell_type": "code",
   "execution_count": null,
   "metadata": {},
   "outputs": [],
   "source": [
    "#isbn - wdt:P957"
   ]
  },
  {
   "cell_type": "code",
   "execution_count": 45,
   "metadata": {},
   "outputs": [],
   "source": [
    "def sparql_query(query : str, endpoint : str ) -> dict:\n",
    "    sparql = SPARQLWrapper(\n",
    "        endpoint\n",
    "    )\n",
    "    sparql.setReturnFormat(JSON)\n",
    "    sparql.setQuery(query)\n",
    "\n",
    "    try:\n",
    "        ret = sparql.queryAndConvert()\n",
    "        return ret\n",
    "    except Exception as e:\n",
    "        print(e)\n",
    "        raise Exception(\"Error in query\")"
   ]
  },
  {
   "cell_type": "code",
   "execution_count": 46,
   "metadata": {},
   "outputs": [],
   "source": [
    "def query_value_sample(prop : str) -> str:\n",
    "    query = \"\"\"\n",
    "                select ?e ?p ?v where {\n",
    "                    values ?p {\"\"\"+prop+\"\"\"}.\n",
    "                    ?e ?p ?v\n",
    "                } limit 100\n",
    "            \"\"\"\n",
    "    query = re.sub(r\"\\n|'\",\"\",query)\n",
    "    return query\n"
   ]
  },
  {
   "cell_type": "code",
   "execution_count": 47,
   "metadata": {},
   "outputs": [],
   "source": [
    "#find prop to query\n",
    "db_prop = \"<http://dbpedia.org/ontology/releaseDate>\"\n",
    "wk_prop = \"<http://www.wikidata.org/prop/statement/P10673>\"\n",
    "result_db = sparql_query(query_value_sample(db_prop),DBPEDIA)\n",
    "result_wk = sparql_query(query_value_sample(wk_prop),WIKIDATA)"
   ]
  },
  {
   "cell_type": "code",
   "execution_count": 42,
   "metadata": {},
   "outputs": [
    {
     "name": "stdout",
     "output_type": "stream",
     "text": [
      "2006-10-28 1782-01-01T00:00:00Z\n",
      "2005-11-15 1951-02-04T00:00:00Z\n",
      "1936-11-07 1958-01-01T00:00:00Z\n",
      "1955-09-08 1970-05-06T00:00:00Z\n",
      "1936-12-07 1972-01-01T00:00:00Z\n",
      "1937-04-12 1980-10-07T00:00:00Z\n",
      "1974-12-02 1986-01-01T00:00:00Z\n",
      "1972-06-30 1986-01-01T00:00:00Z\n",
      "1955-07-06 1990-01-01T00:00:00Z\n",
      "2006-09-09 1990-01-01T00:00:00Z\n",
      "2007-11-06 1992-09-23T00:00:00Z\n",
      "2007-11-13 1993-01-01T00:00:00Z\n",
      "2009-09-29 1999-03-13T00:00:00Z\n",
      "2014-03-25 2000-01-01T00:00:00Z\n",
      "2001-12-04 2005-01-01T00:00:00Z\n",
      "2004-09-06 2006-01-01T00:00:00Z\n",
      "2004-11-10 2006-01-01T00:00:00Z\n",
      "2004-11-23 2006-07-01T00:00:00Z\n",
      "2004-12-09 2008-01-01T00:00:00Z\n",
      "2005-09-27 2008-01-01T00:00:00Z\n",
      "2011-09-27 2008-10-31T00:00:00Z\n",
      "2000-09-12 2009-10-09T00:00:00Z\n",
      "1999-09-14 2012-10-01T00:00:00Z\n",
      "2003-11-11 2012-10-25T00:00:00Z\n",
      "2004-02-05 2013-01-01T00:00:00Z\n",
      "2006-04-04 2013-01-20T00:00:00Z\n",
      "2005-11-16 2014-08-01T00:00:00Z\n",
      "2005-11-24 2014-09-18T00:00:00Z\n",
      "2008-09-23 2015-10-20T00:00:00Z\n",
      "2010-10-19 2016-01-01T00:00:00Z\n",
      "2005-09-13 2017-01-13T00:00:00Z\n",
      "2005-09-14 2017-06-25T00:00:00Z\n",
      "2006-03-07 2017-07-19T00:00:00Z\n",
      "2009-09-08 2020-01-17T00:00:00Z\n",
      "2011-11-01 2020-01-27T00:00:00Z\n",
      "2003-06-03 2020-10-29T00:00:00Z\n",
      "1969-02-10 2021-12-17T00:00:00Z\n",
      "2017-04-28 2021-12-18T00:00:00Z\n",
      "2022-10-24 2022-01-01T00:00:00Z\n",
      "2004-05-10 2022-07-24T00:00:00Z\n"
     ]
    }
   ],
   "source": [
    "for i,j in zip(result_db[\"results\"][\"bindings\"],result_wk[\"results\"][\"bindings\"]):\n",
    "    print(i['value']['value'],j['value']['value'])"
   ]
  }
 ],
 "metadata": {
  "kernelspec": {
   "display_name": "Python 3",
   "language": "python",
   "name": "python3"
  },
  "language_info": {
   "codemirror_mode": {
    "name": "ipython",
    "version": 3
   },
   "file_extension": ".py",
   "mimetype": "text/x-python",
   "name": "python",
   "nbconvert_exporter": "python",
   "pygments_lexer": "ipython3",
   "version": "3.11.2"
  },
  "orig_nbformat": 4
 },
 "nbformat": 4,
 "nbformat_minor": 2
}
